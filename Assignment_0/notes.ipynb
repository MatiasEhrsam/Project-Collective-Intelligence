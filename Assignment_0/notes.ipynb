{
 "cells": [
  {
   "cell_type": "markdown",
   "metadata": {},
   "source": [
    "# Maybe something to fix\n",
    "When getting teleported we lose connection with birds that are supposed to be neighbours."
   ]
  },
  {
   "attachments": {
    "Screenshot from 2024-06-07 08-56-18.png": {
     "image/png": "[encoded data removed]"
    },
    "Screenshot from 2024-06-07 08-56-22.png": {
     "image/png": "[encoded data removed]"
    }
   },
   "cell_type": "markdown",
   "metadata": {},
   "source": [
    "![Screenshot from 2024-06-07 08-56-18.png](<attachment:Screenshot from 2024-06-07 08-56-18.png>)\n",
    "![Screenshot from 2024-06-07 08-56-22.png](<attachment:Screenshot from 2024-06-07 08-56-22.png>)\n",
    "\n",
    "It is the same flock of birds before (left picture) and after (right picture) passing the end, it can be seen that connection becomes weaker which indicates that there indeed is flaw in the code"
   ]
  },
  {
   "cell_type": "markdown",
   "metadata": {},
   "source": []
  },
  {
   "cell_type": "markdown",
   "metadata": {},
   "source": [
    "# Trying to incorporate atomic structure in flocks"
   ]
  },
  {
   "cell_type": "markdown",
   "metadata": {},
   "source": [
    "1) Make pulling force weaker and weaker after some threshold"
   ]
  },
  {
   "cell_type": "markdown",
   "metadata": {},
   "source": [
    "For now implemented through reversing length of the vectors in seperation, additionally we keep distance at least 5"
   ]
  },
  {
   "cell_type": "markdown",
   "metadata": {},
   "source": [
    "boid_pos = self.pos - boid.pos <br>\n",
    "boid_pos = boid_pos.normalize() * (boid_pos.length() - 5)**(-2)"
   ]
  },
  {
   "cell_type": "markdown",
   "metadata": {},
   "source": []
  }
 ],
 "metadata": {
  "language_info": {
   "name": "python"
  }
 },
 "nbformat": 4,
 "nbformat_minor": 2
}
